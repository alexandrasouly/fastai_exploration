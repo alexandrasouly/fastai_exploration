{
 "cells": [
  {
   "cell_type": "code",
   "execution_count": 2,
   "id": "d9ba3e94-6b4f-44f5-b499-62daac0fccc8",
   "metadata": {},
   "outputs": [],
   "source": [
    "\n",
    "import fastbook\n",
    "fastbook.setup_book()\n",
    "from fastbook import *"
   ]
  },
  {
   "cell_type": "code",
   "execution_count": 4,
   "id": "77ea2332-3383-4c22-ae79-7b79bf69e1ff",
   "metadata": {},
   "outputs": [],
   "source": [
    "res = get_image_files(\"./oxford-iiit-pet/images\")"
   ]
  },
  {
   "cell_type": "code",
   "execution_count": 8,
   "id": "f4a2ed94-37b8-45e3-8f17-d68d32ba1678",
   "metadata": {},
   "outputs": [
    {
     "ename": "AttributeError",
     "evalue": "'PosixPath' object has no attribute '__dict__'",
     "output_type": "error",
     "traceback": [
      "\u001b[0;31m---------------------------------------------------------------------------\u001b[0m",
      "\u001b[0;31mAttributeError\u001b[0m                            Traceback (most recent call last)",
      "\u001b[0;32m<ipython-input-8-01a679c27166>\u001b[0m in \u001b[0;36m<module>\u001b[0;34m\u001b[0m\n\u001b[0;32m----> 1\u001b[0;31m \u001b[0mres\u001b[0m\u001b[0;34m[\u001b[0m\u001b[0;36m0\u001b[0m\u001b[0;34m]\u001b[0m\u001b[0;34m.\u001b[0m\u001b[0m__dict__\u001b[0m\u001b[0;34m(\u001b[0m\u001b[0;34m)\u001b[0m\u001b[0;34m\u001b[0m\u001b[0;34m\u001b[0m\u001b[0m\n\u001b[0m",
      "\u001b[0;31mAttributeError\u001b[0m: 'PosixPath' object has no attribute '__dict__'"
     ]
    }
   ],
   "source": [
    "res[0]."
   ]
  },
  {
   "cell_type": "code",
   "execution_count": null,
   "id": "546e77d0-a3ee-4334-a7be-003cd863954e",
   "metadata": {},
   "outputs": [],
   "source": []
  }
 ],
 "metadata": {
  "kernelspec": {
   "display_name": "fastbook",
   "language": "python",
   "name": "fastbook"
  },
  "language_info": {
   "codemirror_mode": {
    "name": "ipython",
    "version": 3
   },
   "file_extension": ".py",
   "mimetype": "text/x-python",
   "name": "python",
   "nbconvert_exporter": "python",
   "pygments_lexer": "ipython3",
   "version": "3.8.10"
  }
 },
 "nbformat": 4,
 "nbformat_minor": 5
}
